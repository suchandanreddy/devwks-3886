{
 "cells": [
  {
   "cell_type": "markdown",
   "metadata": {},
   "source": [
    " # NETCONF\n",
    " \n",
    "<p><div class=\"lev1 toc-item\"><a href=\"#Useful-Snippets\" data-toc-modified-id=\"Useful-Snippets-1\"><span class=\"toc-item-num\">1&nbsp;&nbsp;</span>Useful Snippets</a></div><div class=\"lev2 toc-item\"><a href=\"#Enable-Debugging\" data-toc-modified-id=\"Enable-Debugging-11\"><span class=\"toc-item-num\">1.1&nbsp;&nbsp;</span>Enable Debugging</a></div><div class=\"lev3 toc-item\"><a href=\"#Pretty-Printing-XML\" data-toc-modified-id=\"Pretty-Printing-XML-12\"><span class=\"toc-item-num\">1.2&nbsp;&nbsp;</span>Pretty Printing XML</a></div><div class=\"lev3 toc-item\"><a href=\"#Enable-netconf\" data-toc-modified-id=\"Enable-netconf-13\"><span class=\"toc-item-num\">1.3&nbsp;&nbsp;</span>Enable netconf</a></div><div class=\"lev1 toc-item\"><a href=\"#Connecting-to-a-Device\" data-toc-modified-id=\"Connecting-to-a-Device-2\"><span class=\"toc-item-num\">2&nbsp;&nbsp;</span>Connecting to a Device</a></div><div class=\"lev2 toc-item\"><a href=\"#Capabilities\" data-toc-modified-id=\"Capabilities-21\"><span class=\"toc-item-num\">2.1&nbsp;&nbsp;</span>Capabilities</a></div><div class=\"lev2 toc-item\"><a href=\"#YANG-data-model-Schema\" data-toc-modified-id=\"YANG-data-model-Schema-22\"><span class=\"toc-item-num\">2.2&nbsp;&nbsp;</span>YANG data model Schema</a></div><div class=\"lev1 toc-item\"><a href=\"#Device-Configuration\" data-toc-modified-id=\"Device-Configuration-3\"><span class=\"toc-item-num\">3&nbsp;&nbsp;</span>Device Configuration</a></div><div class=\"lev2 toc-item\"><a href=\"#Getting-the-Configuration\" data-toc-modified-id=\"Getting-the-Configuration-31\"><span class=\"toc-item-num\">3.1&nbsp;&nbsp;</span>Getting the Configuration</a></div><div class=\"lev2 toc-item\"><a href=\"#Using-filters\" data-toc-modified-id=\"Using-filters-32\"><span class=\"toc-item-num\">3.2&nbsp;&nbsp;</span>Using filters</a></div><div class=\"lev2 toc-item\"><a href=\"#Configure-DMVPN-Spoke\" data-toc-modified-id=\"Using-filters-33\"><span class=\"toc-item-num\">3.3&nbsp;&nbsp;</span>Configure DMVPN Spoke</a></div><div class=\"lev2 toc-item\"><a href=\"#Generate-Config-With-Templates\" data-toc-modified-id=\"Generate-Config-With-Templates-331\"><span class=\"toc-item-num\">3.3.1&nbsp;&nbsp;</span>Generate Config With Templates</a></div><div class=\"lev2 toc-item\"><a href=\"#Save-Configuration\" data-toc-modified-id=\"Save-Configuration-332\"><span class=\"toc-item-num\">3.3.2&nbsp;&nbsp;</span>Save Configuration</a></div>"
   ]
  },
  {
   "cell_type": "markdown",
   "metadata": {},
   "source": [
    "# Useful Snippets"
   ]
  },
  {
   "cell_type": "markdown",
   "metadata": {},
   "source": [
    "Before we begin, let us define few useful snippets for debugging the netconf sessions and printing the raw XML content in more readable way. \n",
    "\n",
    "The ncclient library generates huge amounts of debugging information. The below code fragment shows how to enable it."
   ]
  },
  {
   "cell_type": "markdown",
   "metadata": {},
   "source": [
    "## Enable Debugging"
   ]
  },
  {
   "cell_type": "code",
   "execution_count": null,
   "metadata": {},
   "outputs": [],
   "source": [
    "import logging\n",
    "\n",
    "handler = logging.StreamHandler()\n",
    "for l in ['ncclient.transport.ssh', 'ncclient.transport.session', 'ncclient.operations.rpc']:\n",
    "    logger = logging.getLogger(l)\n",
    "    if not logger.hasHandlers():\n",
    "        logger.addHandler(handler)\n",
    "        logger.setLevel(logging.INFO)\n",
    "        \n",
    "print(\"Enabled the logging for ssh, session, rpc\")"
   ]
  },
  {
   "cell_type": "markdown",
   "metadata": {},
   "source": [
    "## Pretty Printing XML"
   ]
  },
  {
   "cell_type": "markdown",
   "metadata": {},
   "source": [
    "`ncclient` works only on XML data as NETCONF supports only XML content format. Below code snippet is to print the data part of the xml content in more readable format. "
   ]
  },
  {
   "cell_type": "code",
   "execution_count": null,
   "metadata": {},
   "outputs": [],
   "source": [
    "from lxml import etree\n",
    "\n",
    "def pretty_print(element):\n",
    "    # Netconf reply returns actual return data with a tag '<data></data>'\n",
    "    data = list(element.data)\n",
    "    items = len(data)\n",
    "    for i, j in enumerate(data):\n",
    "        if i > 0 and i < items:\n",
    "            print('#' * 50)\n",
    "        print(etree.tostring(j, pretty_print=True).decode('utf-8'))\n",
    "        \n",
    "print(\"Defined the pretty_print function\")"
   ]
  },
  {
   "cell_type": "markdown",
   "metadata": {},
   "source": [
    "## Enable netconf"
   ]
  },
  {
   "cell_type": "markdown",
   "metadata": {},
   "source": [
    "Configure command \"netconf-yang\" to enable the netconf on IOSXE device. \n",
    "\n",
    "```\n",
    "Router#conf t\n",
    "Enter configuration commands, one per line.  End with CNTL/Z.\n",
    "Router(config)#netconf-yang\n",
    "```"
   ]
  },
  {
   "cell_type": "markdown",
   "metadata": {},
   "source": [
    "# Connecting to a Device"
   ]
  },
  {
   "cell_type": "markdown",
   "metadata": {},
   "source": [
    "Verify if NETCONF is enabled by doing SSH to device on the NETCONF agent's port. Netconf agent listens on port 830.\n",
    "\n",
    "\n",
    "```\n",
    "$ ssh -p 830 cisco@192.168.163.223 -s netconf\n",
    "cisco@192.168.163.223's password:\n",
    "<?xml version=\"1.0\" encoding=\"UTF-8\"?>\n",
    "<hello xmlns=\"urn:ietf:params:xml:ns:netconf:base:1.0\">\n",
    "<capabilities>\n",
    "<capability>urn:ietf:params:netconf:base:1.0</capability>\n",
    "<capability>urn:ietf:params:netconf:base:1.1</capability>\n",
    "<capability>urn:ietf:params:netconf:capability:writable-running:1.0</capability>\n",
    "<capability>urn:ietf:params:netconf:capability:xpath:1.0</capability>\n",
    "<capability>urn:ietf:params:netconf:capability:validate:1.0</capability>\n",
    "<capability>urn:ietf:params:netconf:capability:validate:1.1</capability>\n",
    "\n",
    "<snip>\n",
    "\n",
    "<capability>urn:ietf:params:xml:ns:yang:ietf-netconf-with-defaults?module=ietf-netconf-with-defaults&amp;revision=2011-06-01</capability>\n",
    "</capabilities>\n",
    "<session-id>24672</session-id></hello>]]>]]>\n",
    "```\n",
    "\n",
    "\n",
    "With -s option, we can provide the subsystem to be used.\n",
    "\n",
    "Now, let's define host variables and connect to device using ncclient package. "
   ]
  },
  {
   "cell_type": "code",
   "execution_count": null,
   "metadata": {},
   "outputs": [],
   "source": [
    "spoke = {\n",
    "             \"host\": \"127.0.0.1\",\n",
    "             \"port\": 2223,\n",
    "             \"username\": \"vagrant\",\n",
    "             \"password\": \"vagrant\"\n",
    "          }"
   ]
  },
  {
   "cell_type": "code",
   "execution_count": null,
   "metadata": {
    "scrolled": true
   },
   "outputs": [],
   "source": [
    "from ncclient import manager, xml_\n",
    "    \n",
    "m = manager.connect(host=spoke[\"host\"], port=spoke[\"port\"], username=spoke[\"username\"], password=spoke[\"password\"],\n",
    "                    allow_agent=False,\n",
    "                    look_for_keys=False,\n",
    "                    hostkey_verify=False,\n",
    "                    device_params={'name': 'csr'})"
   ]
  },
  {
   "cell_type": "markdown",
   "metadata": {},
   "source": [
    "## Capabilities \n",
    "\n",
    "Every network device doesn't support all features and mechanisms within the NETCONF protocol. During the `hello` message exchange with server, NETCONF provides the capabilities which are supported by it.  In order to retrieve only capabilities supported by netconf server, we need to use the filter `urn:ietf:params:netconf` \n",
    "\n",
    "`Reference`: http://www.netconfcentral.org/netconf_docs#capabilities "
   ]
  },
  {
   "cell_type": "code",
   "execution_count": null,
   "metadata": {},
   "outputs": [],
   "source": [
    "capabilities = m.server_capabilities\n",
    "\n",
    "[i for i in capabilities if i.startswith('urn:ietf:params:netconf')]"
   ]
  },
  {
   "cell_type": "markdown",
   "metadata": {},
   "source": [
    "Now let's print the capabilities related to data model support."
   ]
  },
  {
   "cell_type": "code",
   "execution_count": null,
   "metadata": {},
   "outputs": [],
   "source": [
    "import re\n",
    "\n",
    "for i in capabilities:\n",
    "    model = re.search('module=([^&]*)&', i)\n",
    "    if model is not None:\n",
    "        print(\"{}\".format(model.group(1)))"
   ]
  },
  {
   "cell_type": "markdown",
   "metadata": {},
   "source": [
    "## YANG data model Schema\n",
    "\n",
    "After parsing the capabilities we can also use ncclient to provide more details about the data models supported.  \n",
    "\n",
    "Let's pick the crypto data model `Cisco-IOS-XE-crypto` and print the schema for it. The ncclient library provides `get_schema` function for that. Here is snip of get_schema output for pre-shared-key container. \n",
    "\n",
    "Preshared key configuration on the device\n",
    "\n",
    "```\n",
    "crypto isakmp key cisco47 address 0.0.0.0 0.0.0.0\n",
    "```\n",
    "\n",
    "Snip of crypto data model which shows the container for pre-shared-key\n",
    "\n",
    "```\n",
    "    container pre-shared-key {\n",
    "      description\n",
    "        \"Pre-Shared Key\";\n",
    "      container address {\n",
    "        description\n",
    "          \"pre shared key by address\";\n",
    "        choice ipv4-ipv6 {\n",
    "          case ipv4 {\n",
    "            list ipv4 {\n",
    "              description \n",
    "                \"address prefix\";\n",
    "              key \"ipv4-addr\";\n",
    "              leaf ipv4-addr {\n",
    "                type inet:ipv4-address;\n",
    "              }\n",
    "              leaf mask {\n",
    "                description\n",
    "                    \"address prefix mask\";\n",
    "                type inet:ipv4-address;\n",
    "              }\n",
    "              uses crypto-keyring-key-grouping;\n",
    "            }\n",
    "          }\n",
    "          case ipv6 {\n",
    "            list ipv6 {\n",
    "              description\n",
    "                \"define shared key with IPv6 address\";\n",
    "              key \"ipv6\";\n",
    "              leaf ipv6 {\n",
    "                description\n",
    "                  \"IPv6 prefix mask\";\n",
    "                type ios-types:ipv6-prefix;\n",
    "              }\n",
    "              uses crypto-keyring-key-grouping;\n",
    "            }\n",
    "          } \n",
    "        }\n",
    "      }\n",
    " ```"
   ]
  },
  {
   "cell_type": "code",
   "execution_count": null,
   "metadata": {},
   "outputs": [],
   "source": [
    "model_schema = m.get_schema('Cisco-IOS-XE-crypto')\n",
    "\n",
    "print(model_schema)"
   ]
  },
  {
   "cell_type": "markdown",
   "metadata": {},
   "source": [
    "# Device Configuration\n",
    "\n",
    "The ncclient library provides basic operations to get and modify the configuration. \n",
    "\n",
    "`get_config`  - takes a target data store and it also supports an optional filter\n",
    "\n",
    "`edit_config` - takes a target data store and an XML content which represents configuration change. \n"
   ]
  },
  {
   "cell_type": "markdown",
   "metadata": {},
   "source": [
    "## Getting the Configuration\n",
    "\n",
    "Get the running configuration using get_config function\n"
   ]
  },
  {
   "cell_type": "code",
   "execution_count": null,
   "metadata": {},
   "outputs": [],
   "source": [
    "config = m.get_config(source='running')\n",
    "pretty_print(config)"
   ]
  },
  {
   "cell_type": "markdown",
   "metadata": {},
   "source": [
    "## Using filters\n",
    "\n",
    "Using filters to get selected part of running configuration. \n",
    "\n",
    "Below section of code shows how to get only interface details and hostname from configuration. "
   ]
  },
  {
   "cell_type": "code",
   "execution_count": null,
   "metadata": {},
   "outputs": [],
   "source": [
    "filter = '''\n",
    "<native>\n",
    "  <interface/>\n",
    "</native>\n",
    "'''\n",
    "\n",
    "c = m.get_config(source='running', filter=('subtree', filter))\n",
    "pretty_print(c)"
   ]
  },
  {
   "cell_type": "code",
   "execution_count": null,
   "metadata": {},
   "outputs": [],
   "source": [
    "filter = '''\n",
    "<native>\n",
    "  <hostname>\n",
    "  </hostname>\n",
    "</native>\n",
    "'''\n",
    "c = m.get_config(source='running', filter=('subtree', filter))\n",
    "pretty_print(c)"
   ]
  },
  {
   "cell_type": "markdown",
   "metadata": {},
   "source": [
    "# Configure DMVPN Spoke"
   ]
  },
  {
   "cell_type": "markdown",
   "metadata": {},
   "source": [
    "## Generate Config With Templates \n",
    "\n",
    "Jinja2 is widely used Templating Language. It supports various features like conditionals, loops, Variable insertion\n",
    "\n",
    "Configuration details are isolated from the code and have been put in .yaml file for better code management. \n",
    "\n",
    "Below is an example on how to generate required configuration in XML format from .j2 and .yaml file. \n"
   ]
  },
  {
   "cell_type": "markdown",
   "metadata": {},
   "source": [
    "config_details.yaml file: \n",
    "\n",
    "     VRFs:\n",
    "      - name: RED\n",
    "      - name: BLUE\n",
    "      \n",
    "\n",
    "crypto_config.j2 file:\n",
    "\n",
    "\t \t<vrf>\n",
    "\t \t{% for VRF in VRFs %}\n",
    "        <definition>\n",
    "            <name>{{VRF.name}}</name>\n",
    "            <address-family>\n",
    "                <ipv4>\n",
    "                </ipv4>\n",
    "            </address-family>\n",
    "        </definition>\n",
    "        {% endfor %}\n",
    "        </vrf>\n",
    "        \n",
    "\n",
    "XML config generated with above template snip\n",
    "\n",
    "\t \t<vrf>\n",
    "\t \t\n",
    "        <definition>\n",
    "            <name>RED</name>\n",
    "            <address-family>\n",
    "                <ipv4>\n",
    "                </ipv4>\n",
    "            </address-family>\n",
    "        </definition>\n",
    "        \n",
    "        <definition>\n",
    "            <name>BLUE</name>\n",
    "            <address-family>\n",
    "                <ipv4>\n",
    "                </ipv4>\n",
    "            </address-family>\n",
    "        </definition>\n",
    "        \n",
    "        </vrf>"
   ]
  },
  {
   "cell_type": "code",
   "execution_count": null,
   "metadata": {},
   "outputs": [],
   "source": [
    "import yaml\n",
    "import xmltodict\n",
    "from jinja2 import Template\n",
    "\n",
    "print(\"Loading Network Configuration Details from YAML File\")\n",
    "with open(\"../local_spoke/config_details.yaml\") as f:\n",
    "    config = yaml.load(f.read())\n",
    "    \n",
    "with open(\"../local_spoke/crypto_config.j2\") as f:\n",
    "    crypto_template = Template(f.read())\n",
    "    \n",
    "with open(\"../local_spoke/interface_config.j2\") as f:\n",
    "    interface_template = Template(f.read())\n",
    "    \n",
    "print(\"Processing Device Configurations\")\n",
    "\n",
    "for device in config[\"devices\"]:\n",
    "    print(\"Device: {}\".format(device[\"name\"]))\n",
    "\n",
    "    # Generate Device Specific Configurations\n",
    "\n",
    "    print(\"Creating Device Specific Configurations from Interface and Crypto Template\")\n",
    "\n",
    "    with open(\"../local_spoke/{}_interface.cfg\".format(device[\"name\"]), \"w\") as f:\n",
    "        interface_config = interface_template.render(interfaces=device[\"interfaces\"])\n",
    "        f.write(interface_config)\n",
    "\n",
    "    with open(\"../local_spoke/{}_dmvpn.cfg\".format(device[\"name\"]), \"w\") as f:\n",
    "        crypto_config = crypto_template.render(VRFs=device[\"VRFs\"],TunnelInterfaces=device[\"TunnelInterfaces\"],ospf=device[\"ospf\"],Profiles=device[\"Profiles\"])\n",
    "        f.write(crypto_config)\n",
    "\n",
    "print(\"Sending Configuration via NETCONF by using edit-config operation\")\n",
    "    \n",
    "interface_resp = m.edit_config(interface_config, target=\"running\")\n",
    "\n",
    "crypto_resp = m.edit_config(crypto_config, target = \"running\")\n",
    "\n",
    "interface_reply = xmltodict.parse(interface_resp.xml)\n",
    "\n",
    "crypto_reply = xmltodict.parse(crypto_resp.xml)\n",
    "\n",
    "print(\"Interface Config: {}\".format(crypto_reply[\"rpc-reply\"]))\n",
    "    \n",
    "print(\"DMVPN Config: {}\".format(crypto_reply[\"rpc-reply\"]))\n",
    "\n",
    "print(\"-----------------------------------------------------------------\")"
   ]
  },
  {
   "cell_type": "markdown",
   "metadata": {},
   "source": [
    "## Save Configuration\n",
    "\n",
    "Configurations done via edit_config function will be in running configuration. We have to run below code to save the configuration to startup. "
   ]
  },
  {
   "cell_type": "code",
   "execution_count": null,
   "metadata": {},
   "outputs": [],
   "source": [
    "save_body = '<cisco-ia:save-config xmlns:cisco-ia=\"http://cisco.com/yang/cisco-ia\"/>'\n",
    "\n",
    "save_rpc = m.dispatch(xml_.to_ele(save_body))\n",
    "\n",
    "save_reply = xmltodict.parse(save_rpc.xml)\n",
    "\n",
    "print((save_reply[\"rpc-reply\"][\"result\"][\"#text\"]))"
   ]
  }
 ],
 "metadata": {
  "kernelspec": {
   "display_name": "Python 3",
   "language": "python",
   "name": "python3"
  },
  "language_info": {
   "codemirror_mode": {
    "name": "ipython",
    "version": 3
   },
   "file_extension": ".py",
   "mimetype": "text/x-python",
   "name": "python",
   "nbconvert_exporter": "python",
   "pygments_lexer": "ipython3",
   "version": "3.7.0"
  }
 },
 "nbformat": 4,
 "nbformat_minor": 2
}
