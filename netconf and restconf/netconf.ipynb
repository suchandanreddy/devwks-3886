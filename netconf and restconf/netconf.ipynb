{
 "cells": [
  {
   "cell_type": "markdown",
   "metadata": {},
   "source": [
    "# NETCONF/YANG\n",
    "## 1 [Useful Snippets](#1-Useful-Snippets)\n",
    "### 1.1 [Enable Debugging](#1.1-Enable-Debugging)\n",
    "### 1.2 [Pretty Printing XML](#1.2-Pretty-Printing-XML)\n",
    "## 2  [Connecting to a Device](#2-Connecting-to-a-Device)\n",
    "### 2.1  [Capabilities](#2.1-Capabilities)\n",
    "## 3  [Device Configuration](#3-Device-Configuration)\n",
    "### 3.1  [Getting the Configuration](#3.1-Getting-the-Configuration)\n",
    "### 3.2  [Using filters](#3.2-Using-filters)\n",
    "### 3.3 [Configure DMVPN Spoke](#3.3-Configure-DMVPN-Spoke)\n",
    "#### 3.3.1 [Generate Config With Templates](#3.3.1-Generate-Config-With-Templates)\n",
    "### 3.4 [Save Configuration](#3.4-Save-Configuration)"
   ]
  },
  {
   "cell_type": "markdown",
   "metadata": {},
   "source": [
    "# 1 Useful Snippets"
   ]
  },
  {
   "cell_type": "markdown",
   "metadata": {},
   "source": [
    "The ncclient library can generate vast amounts of debugging information. The below code fragment shows how to enable it."
   ]
  },
  {
   "cell_type": "markdown",
   "metadata": {},
   "source": [
    "# 1.1 Enable Debugging"
   ]
  },
  {
   "cell_type": "code",
   "execution_count": null,
   "metadata": {},
   "outputs": [],
   "source": [
    "import logging\n",
    "\n",
    "handler = logging.StreamHandler()\n",
    "for l in ['ncclient.transport.ssh', 'ncclient.transport.session', 'ncclient.operations.rpc']:\n",
    "    logger = logging.getLogger(l)\n",
    "    if not logger.hasHandlers():\n",
    "        logger.addHandler(handler)\n",
    "        logger.setLevel(logging.INFO)"
   ]
  },
  {
   "cell_type": "markdown",
   "metadata": {},
   "source": [
    "# 1.2 Pretty Printing XML"
   ]
  },
  {
   "cell_type": "code",
   "execution_count": null,
   "metadata": {},
   "outputs": [],
   "source": [
    "from lxml import etree\n",
    "\n",
    "def pretty_print(element):\n",
    "    # Netconf reply returns actual return data with a tag '<data></data>'\n",
    "    data = list(element.data)\n",
    "    items = len(data)\n",
    "    for i, j in enumerate(data):\n",
    "        if i > 0 and i < items:\n",
    "            print('#' * 50)\n",
    "        print(etree.tostring(j, pretty_print=True).decode('utf-8'))"
   ]
  },
  {
   "cell_type": "markdown",
   "metadata": {},
   "source": [
    "# 1.3 Enable netconf"
   ]
  },
  {
   "cell_type": "markdown",
   "metadata": {},
   "source": [
    "Configure command \"netconf-yang\" to enable the netconf on IOSXE device. \n",
    "\n",
    "Router#conf t\n",
    "Enter configuration commands, one per line.  End with CNTL/Z.\n",
    "Router(config)#netconf-yang"
   ]
  },
  {
   "cell_type": "markdown",
   "metadata": {},
   "source": [
    "# 2 Connecting to a Device"
   ]
  },
  {
   "cell_type": "markdown",
   "metadata": {},
   "source": [
    "Verify if NETCONF is enabled by doing SSH to the device on the NETCONF agent's port. Netconf agent listens on port 830.\n",
    "\n",
    "$ ssh -p 830 -s cisco@192.168.163.223 netconf\n",
    "cisco@192.168.163.223's password:\n",
    "<?xml version=\"1.0\" encoding=\"UTF-8\"?>\n",
    "<hello xmlns=\"urn:ietf:params:xml:ns:netconf:base:1.0\">\n",
    "<capabilities>\n",
    "<capability>urn:ietf:params:netconf:base:1.0</capability>\n",
    "<capability>urn:ietf:params:netconf:base:1.1</capability>\n",
    "<capability>urn:ietf:params:netconf:capability:writable-running:1.0</capability>\n",
    "<capability>urn:ietf:params:netconf:capability:xpath:1.0</capability>\n",
    "<capability>urn:ietf:params:netconf:capability:validate:1.0</capability>\n",
    "<capability>urn:ietf:params:netconf:capability:validate:1.1</capability>\n",
    "\n",
    "<snip>\n",
    "\n",
    "<capability>urn:ietf:params:xml:ns:yang:ietf-netconf-with-defaults?module=ietf-netconf-with-defaults&amp;revision=2011-06-01</capability>\n",
    "</capabilities>\n",
    "<session-id>24672</session-id></hello>]]>]]>\n",
    "\n",
    "With -s option, SSH would interpret the provided remote command as the SSH subsystem to use.\n",
    "\n",
    "Now, lets define host variables and connect to device using ncclient package. "
   ]
  },
  {
   "cell_type": "code",
   "execution_count": null,
   "metadata": {},
   "outputs": [],
   "source": [
    "spoke = {\n",
    "             \"host\": \"127.0.0.1\", # need to change it to local system ip\n",
    "             \"port\": 2223,\n",
    "             \"username\": \"vagrant\",\n",
    "             \"password\": \"vagrant\"\n",
    "          }"
   ]
  },
  {
   "cell_type": "code",
   "execution_count": null,
   "metadata": {
    "scrolled": true
   },
   "outputs": [],
   "source": [
    "from ncclient import manager, xml_\n",
    "    \n",
    "m = manager.connect(host=spoke[\"host\"], port=spoke[\"port\"], username=spoke[\"username\"], password=spoke[\"password\"],\n",
    "                    allow_agent=False,\n",
    "                    look_for_keys=False,\n",
    "                    hostkey_verify=False,\n",
    "                    device_params={'name':'csr'})"
   ]
  },
  {
   "cell_type": "markdown",
   "metadata": {},
   "source": [
    "# 2.1 Capabilities \n",
    "\n",
    "Every network device doesn't support all features and mechanisms within the NETCONF protocol. During the <hello> message exchange with server, NETCONF provides the capabilities which supported by it.  In order to retrive only capabilities supported by netconf server, we need to use the filter 'urn:ietf:params:netconf'"
   ]
  },
  {
   "cell_type": "code",
   "execution_count": null,
   "metadata": {},
   "outputs": [],
   "source": [
    "capabilities = m.server_capabilities\n",
    "\n",
    "[i for i in capabilities if i.startswith('urn:ietf:params:netconf')]"
   ]
  },
  {
   "cell_type": "markdown",
   "metadata": {},
   "source": [
    "# 3 Device Configuration\n",
    "\n",
    "The ncclient library provides basic operations to get and modify the configuration. \n",
    "\n",
    "get_config  - takes a target data store and it also supports an optional filter\n",
    "\n",
    "edit_config - takes a target data store and an XML content which represents configurtion change. \n"
   ]
  },
  {
   "cell_type": "markdown",
   "metadata": {},
   "source": [
    "# 3.1 Getting the Configuration\n",
    "\n",
    "Get the running configuration using get_config function\n"
   ]
  },
  {
   "cell_type": "code",
   "execution_count": null,
   "metadata": {},
   "outputs": [],
   "source": [
    "\n",
    "config = m.get_config(source='running')\n",
    "pretty_print(config)"
   ]
  },
  {
   "cell_type": "markdown",
   "metadata": {},
   "source": [
    "# 3.2 Using filters\n",
    "\n",
    "Using filters to get selected part of running configuration. \n",
    "\n",
    "Below section of code shows how to get only domain and hostname from configuration. "
   ]
  },
  {
   "cell_type": "code",
   "execution_count": null,
   "metadata": {},
   "outputs": [],
   "source": [
    "filter = '''\n",
    "<interfaces xmlns=\"urn:ietf:params:xml:ns:yang:ietf-interfaces\">\n",
    "  <interface>\n",
    "    <name>GigabitEthernet2</name>\n",
    "  </interface>\n",
    "</interfaces>'''\n",
    "\n",
    "c = m.get_config(source='running', filter=('subtree', filter))\n",
    "pretty_print(c)"
   ]
  },
  {
   "cell_type": "code",
   "execution_count": null,
   "metadata": {},
   "outputs": [],
   "source": [
    "filter = '''\n",
    "<native>\n",
    "  <hostname/>\n",
    "</native>\n",
    "'''\n",
    "c = m.get_config(source='running', filter=('subtree', filter))\n",
    "pretty_print(c)"
   ]
  },
  {
   "cell_type": "markdown",
   "metadata": {},
   "source": [
    "# 3.3 Configure DMVPN Spoke"
   ]
  },
  {
   "cell_type": "markdown",
   "metadata": {},
   "source": [
    "# 3.3.1 Generate Config With Templates \n",
    "\n",
    "Jinja2 is widely used Templating Language. It supports various features like conditionals, loops, Variable insertion\n",
    "\n",
    "Configuration details are isolated from the code and have been put in .yaml file for better code management. \n",
    "\n",
    "Below is an example on how to generate required configuration in XML format from .j2 and .yaml file. \n"
   ]
  },
  {
   "cell_type": "markdown",
   "metadata": {},
   "source": [
    "config_details.yaml file: \n",
    "\n",
    "     VRFs:\n",
    "      - name: RED\n",
    "      - name: BLUE\n",
    "      \n",
    "\n",
    "crypto_config.j2 file:\n",
    "\n",
    "\t \t<vrf>\n",
    "\t \t{% for VRF in VRFs %}\n",
    "        <definition>\n",
    "            <name>{{VRF.name}}</name>\n",
    "            <address-family>\n",
    "                <ipv4>\n",
    "                </ipv4>\n",
    "            </address-family>\n",
    "        </definition>\n",
    "        {% endfor %}\n",
    "        </vrf>\n",
    "        \n",
    "\n",
    "XML config generated with above template snip\n",
    "\n",
    "\t \t<vrf>\n",
    "\t \t\n",
    "        <definition>\n",
    "            <name>RED</name>\n",
    "            <address-family>\n",
    "                <ipv4>\n",
    "                </ipv4>\n",
    "            </address-family>\n",
    "        </definition>\n",
    "        \n",
    "        <definition>\n",
    "            <name>BLUE</name>\n",
    "            <address-family>\n",
    "                <ipv4>\n",
    "                </ipv4>\n",
    "            </address-family>\n",
    "        </definition>\n",
    "        \n",
    "        </vrf>"
   ]
  },
  {
   "cell_type": "code",
   "execution_count": null,
   "metadata": {},
   "outputs": [],
   "source": [
    "import yaml\n",
    "import xmltodict\n",
    "from jinja2 import Template\n",
    "\n",
    "print(\"Loading Network Configuration Details from YAML File\")\n",
    "with open(\"local_spoke/config_details.yaml\") as f:\n",
    "    config = yaml.load(f.read())\n",
    "    \n",
    "with open(\"local_spoke/crypto_config.j2\") as f:\n",
    "    crypto_template = Template(f.read())\n",
    "    \n",
    "with open(\"local_spoke/interface_config.j2\") as f:\n",
    "    interface_template = Template(f.read())\n",
    "    \n",
    "print(\"Processing Device Configurations\")\n",
    "\n",
    "for device in config[\"devices\"]:\n",
    "    print(\"Device: {}\".format(device[\"name\"]))\n",
    "\n",
    "    # Generate Device Specific Configurations\n",
    "\n",
    "    print(\"Creating Device Specific Configurations from Interface and Crypto Template\")\n",
    "\n",
    "    with open(\"local_spoke/{}_interface.cfg\".format(device[\"name\"]), \"w\") as f:\n",
    "        interface_config = interface_template.render(interfaces=device[\"interfaces\"])\n",
    "        f.write(interface_config)\n",
    "\n",
    "    with open(\"local_spoke/{}_dmvpn.cfg\".format(device[\"name\"]), \"w\") as f:\n",
    "        crypto_config = crypto_template.render(VRFs=device[\"VRFs\"],TunnelInterfaces=device[\"TunnelInterfaces\"],ospf=device[\"ospf\"],Profiles=device[\"Profiles\"])\n",
    "        f.write(crypto_config)\n",
    "\n",
    "print(\"Sending Configuration via NETCONF by using edit-config operation\")\n",
    "    \n",
    "interface_resp = m.edit_config(interface_config, target=\"running\")\n",
    "\n",
    "crypto_resp = m.edit_config(crypto_config, target = \"running\")\n",
    "\n",
    "interface_reply = xmltodict.parse(interface_resp.xml)\n",
    "\n",
    "crypto_reply = xmltodict.parse(crypto_resp.xml)\n",
    "\n",
    "print(\"Interface Config: {}\".format(crypto_reply[\"rpc-reply\"]))\n",
    "    \n",
    "print(\"DMVPN Config: {}\".format(crypto_reply[\"rpc-reply\"]))\n",
    "\n",
    "print(\"-----------------------------------------------------------------\")"
   ]
  },
  {
   "cell_type": "markdown",
   "metadata": {},
   "source": [
    "# 3.4 Save Configuration\n",
    "\n",
    "Configurations done via edit_config function will be in running configuration. We have to run below code to save the configuration to startup. "
   ]
  },
  {
   "cell_type": "code",
   "execution_count": null,
   "metadata": {},
   "outputs": [],
   "source": [
    "save_body = '<cisco-ia:save-config xmlns:cisco-ia=\"http://cisco.com/yang/cisco-ia\"/>'\n",
    "\n",
    "save_rpc = m.dispatch(xml_.to_ele(save_body))\n",
    "\n",
    "save_reply = xmltodict.parse(save_rpc.xml)\n",
    "\n",
    "print((save_reply[\"rpc-reply\"][\"result\"][\"#text\"]))"
   ]
  }
 ],
 "metadata": {
  "kernelspec": {
   "display_name": "Python 3",
   "language": "python",
   "name": "python3"
  },
  "language_info": {
   "codemirror_mode": {
    "name": "ipython",
    "version": 3
   },
   "file_extension": ".py",
   "mimetype": "text/x-python",
   "name": "python",
   "nbconvert_exporter": "python",
   "pygments_lexer": "ipython3",
   "version": "3.7.0"
  }
 },
 "nbformat": 4,
 "nbformat_minor": 2
}
