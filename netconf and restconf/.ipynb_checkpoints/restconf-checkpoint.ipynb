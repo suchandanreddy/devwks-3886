{
 "cells": [
  {
   "cell_type": "markdown",
   "metadata": {},
   "source": [
    "# RestConf\n",
    "\n",
    "<p><div class=\"lev1 toc-item\"><a href=\"#Introduction\" data-toc-modified-id=\"Introduction-1\"><span class=\"toc-item-num\">1&nbsp;&nbsp;</span>Introduction</a></div><div class=\"lev2 toc-item\"><a href=\"#What-about-API-catalog-!!!!\" data-toc-modified-id=\"What-about-API-catalog-!!!!-11\"><span class=\"toc-item-num\">1.1&nbsp;&nbsp;</span>What about API catalog !!!!</a></div><div class=\"lev3 toc-item\"></div><div class=\"lev3 toc-item\"><a href=\"#Building-RESTCONF-URIs-based-on-YANG-models\" data-toc-modified-id=\"Building-RESTCONF-URIs-based-on-YANG-models-12\"><span class=\"toc-item-num\">1.2&nbsp;&nbsp;</span>Building RESTCONF URIs based on YANG models</a></div><div class=\"lev3 toc-item\"><a href=\"#RESTCONF-vs-NETCONF\" data-toc-modified-id=\"RESTCONF-vs-NETCONF-13\"><span class=\"toc-item-num\">1.3&nbsp;&nbsp;</span>RESTCONF vs NETCONF</a></div><div class=\"lev1 toc-item\"><a href=\"#Device-Discovery\" data-toc-modified-id=\"Device-Discovery-2\"><span class=\"toc-item-num\">2&nbsp;&nbsp;</span>Device Discovery</a></div><div class=\"lev2 toc-item\"><a href=\"#Device-Configuration\" data-toc-modified-id=\"Device-Configuration-21\"><span class=\"toc-item-num\">2.1&nbsp;&nbsp;</span>Device Configuration</a></div><div class=\"lev2 toc-item\"><a href=\"#Edit-an-ACL\" data-toc-modified-id=\"Edit-an- ACL-22\"><span class=\"toc-item-num\">2.2&nbsp;&nbsp;</span>Edit an ACL</a></div><div class=\"lev1 toc-item\"><a href=\"#Creating-JSON-Payload\" data-toc-modified-id=\"Creating-JSON-Payload-3\"><span class=\"toc-item-num\">3&nbsp;&nbsp;</span>Creating JSON Payload</a></div><div class=\"lev2 toc-item\">\n",
    " <a href=\"#Get-Running-configuration\" data-toc-modified-id=\"Get-Running-configuration-31\"><span class=\"toc-item-num\">3.1&nbsp;&nbsp;</span>Get Running configuration</a></div><div class=\"lev2 toc-item\"><a href=\"#Save-Configuration\" data-toc-modified-id=\"Save-Configuration-32\"><span class=\"toc-item-num\">3.2&nbsp;&nbsp;</span>Save Configuration</a></div>"
   ]
  },
  {
   "cell_type": "markdown",
   "metadata": {},
   "source": [
    "# Introduction\n",
    "\n",
    "RESTCONF is HTTP(S) based protocol which uses the same YANG models underneath as NETCONF. However, RESTCONF uses different transport and encapsulation. \n",
    "\n",
    "NETCONF uses SSH for transport and RESTCONF uses HTTP(S).\n",
    "\n",
    "RESTCONF is stateless by its nature However, NETCONF is stateful as it maintains persistent connection with device.\n",
    "\n",
    "RESTCONF supports XML and JSON as the data encapsulation method.\n",
    "\n",
    "Configuration on IOS-XE router to enable RESTCONF:\n",
    "\n",
    "Router(config)#restconf\n",
    "\n",
    "Router(config)#ip http secure-server\n",
    "\n",
    "By default RESTCONF works on Port 80 or 443, we can configure custom port using below command:\n",
    "\n",
    "Router(config)#ip http secure-port 55443"
   ]
  },
  {
   "cell_type": "markdown",
   "metadata": {},
   "source": [
    "![restconf.png](restconf.png)"
   ]
  },
  {
   "cell_type": "markdown",
   "metadata": {},
   "source": [
    "# What about API catalog !!!!\n",
    "\n",
    "API catalog documentation is usually available for any RESTful based API's However, RESTCONF doesn't have API catalog.\n",
    "\n",
    "Underneath RESTCONF defines how a YANG model is mapped to a RESTful interface. In this notebook we will learn how to...\n",
    "\n",
    "- construct URIs to access the data model.\n",
    "- using HTTP verbs (GET / POST / PATCH / PUT / DELETE)\n",
    "- constructing JSON payload for modifying or configuring the device."
   ]
  },
  {
   "cell_type": "markdown",
   "metadata": {},
   "source": [
    "## Building RESTCONF URIs based on YANG models"
   ]
  },
  {
   "cell_type": "markdown",
   "metadata": {},
   "source": [
    "![URI.png](URI.png)"
   ]
  },
  {
   "cell_type": "markdown",
   "metadata": {},
   "source": [
    "# RESTCONF vs NETCONF\n",
    "\n",
    "Below table draws the similarity between the RESTCONF HTTP verbs and NETCONF Operations\n",
    "\n",
    "RESTCONF uses these HTTP verbs to perform operations. "
   ]
  },
  {
   "cell_type": "markdown",
   "metadata": {},
   "source": [
    "![restconf%20http%20verbs%20vs%20netconf%20operations.png](restconf%20http%20verbs%20vs%20netconf%20operations.png)"
   ]
  },
  {
   "cell_type": "markdown",
   "metadata": {},
   "source": [
    "# Device Discovery\n",
    "\n",
    "RESTCONF provides well known entry points to ‘discover’ the device capabilities and data models.\n",
    "\n",
    "A GET request call to below URI returns the high level RESTCONF entry point. \n",
    "\n",
    "https://{ADDRESS:PORT}/.well-known/host-meta\n"
   ]
  },
  {
   "cell_type": "code",
   "execution_count": null,
   "metadata": {},
   "outputs": [],
   "source": [
    "import requests\n",
    "import json\n",
    "\n",
    "HOST = '127.0.0.1'\n",
    "PORT = '2225'\n",
    "USERNAME = 'vagrant'\n",
    "PASSWORD = 'vagrant'\n",
    "\n",
    "def url(api_resource,yang_data_model=''):\n",
    "  \n",
    "    return \"https://{host}:{port}/restconf/{api_resource}/{yang_data_model}\".format(host=HOST,port=PORT,api_resource=api_resource,yang_data_model=yang_data_model)\n",
    "\n",
    "session = requests.Session()\n",
    "\n",
    "session.auth = (USERNAME, PASSWORD)\n",
    "\n",
    "session.headers = {'accept': 'application/yang-data+json', 'content-type': 'application/yang-data+json'}\n",
    "\n",
    "session.verify = False\n",
    "\n",
    "# disable the ssl warnings\n",
    "requests.packages.urllib3.disable_warnings()\n",
    "\n",
    "response = session.get('https://127.0.0.1:2225/.well-known/host-meta')\n",
    "\n",
    "if response.status_code == 200:\n",
    "    print(response.text)\n",
    "\n"
   ]
  },
  {
   "cell_type": "markdown",
   "metadata": {},
   "source": [
    "# Device Configuration\n",
    "\n",
    "In order to get the ACL configuration on the router we need to use the below URI.\n",
    "\n",
    "https://{ADDRESS:PORT}/restconf/data/Cisco-IOS-XE-native:native/ip/access-list/    \n"
   ]
  },
  {
   "cell_type": "code",
   "execution_count": null,
   "metadata": {},
   "outputs": [],
   "source": [
    "print(url('data','Cisco-IOS-XE-native:native/ip/access-list/'))\n",
    "\n",
    "o = session.get(url('data','Cisco-IOS-XE-native:native/ip/access-list/'))\n",
    "\n",
    "print(o.text)"
   ]
  },
  {
   "cell_type": "markdown",
   "metadata": {},
   "source": [
    "# Edit an ACL\n",
    "\n",
    "In order to edit the configuration we need to use the PATCH HTTP verb. \n",
    "\n",
    "Below is the URI to edit the ACL configuration for extended ACL 104\n",
    "    \n",
    "https://127.0.0.1:2225/restconf/data/Cisco-IOS-XE-native:native/ip/access-list/extended=104"
   ]
  },
  {
   "cell_type": "markdown",
   "metadata": {},
   "source": [
    "Configuration change would be sent to device using the JSON payload. JSON payload is built based on the YANG model definition.\n",
    "\n",
    "YANG model definition for ACL is : ( We use pyang utility to print YANG data model as a Tree structure )\n",
    "\n",
    "```\n",
    "pyang -f tree Cisco-IOS-XE-acl.yang\n",
    "\n",
    "+--rw extended* [name]\n",
    "    |  +--rw name                    ios-types:ext-acl-type\n",
    "    |  +--rw access-list-seq-rule* [sequence]\n",
    "    |  |  +--rw sequence    uint64\n",
    "    |  |  +--rw ace-rule\n",
    "    |  |  |  +--rw action?                    enumeration\n",
    "    |  |  |  +--rw protocol?                  union\n",
    "    |  |  |  +--rw object-group-str?          string\n",
    "    |  |  |  +--rw (source-choice)?\n",
    "    |  |  |  |  +--:(ipv4-prefix-case)\n",
    "    |  |  |  |  |  +--rw ipv4-address         inet:ipv4-address\n",
    "    |  |  |  |  |  +--rw mask                 inet:ipv4-address\n",
    "    |  |  |  |  +--:(any-case)\n",
    "    |  |  |  |  |  +--rw any?                 empty\n",
    "    |  |  |  |  +--:(host-case)\n",
    "    |  |  |  |  |  +--rw host?                ios-types:ipv4-host\n",
    "    |  |  |  |  +--:(object-group-case)\n",
    "    |  |  |  |     +--rw object-group?        string\n",
    "    |  |  |  +--rw (src-port-choice)?\n",
    "    |  |  |  |  +--:(src-eq-case)\n",
    "    |  |  |  |  |  +--rw src-eq?              acl-port-type\n",
    "    |  |  |  |  +--:(src-gt-case)\n",
    "    |  |  |  |  |  +--rw src-gt?              acl-port-type\n",
    "    |  |  |  |  +--:(src-lt-case)\n",
    "    |  |  |  |  |  +--rw src-lt?              acl-port-type\n",
    "    |  |  |  |  +--:(src-neq-case)\n",
    "    |  |  |  |  |  +--rw src-neq?             acl-port-type\n",
    "    |  |  |  |  +--:(src-range-case)\n",
    "    |  |  |  |     +--rw src-range1?          acl-port-type\n",
    "    |  |  |  |     +--rw src-range2?          acl-port-type\n",
    "    |  |  |  +--rw (destination-choice)?\n",
    "    |  |  |  |  +--:(ipv4-prefix-case)\n",
    "    |  |  |  |  |  +--rw dest-ipv4-address    inet:ipv4-address\n",
    "    |  |  |  |  |  +--rw dest-mask            inet:ipv4-address\n",
    "    |  |  |  |  +--:(any-case)\n",
    "    |  |  |  |  |  +--rw dst-any?             empty\n",
    "    |  |  |  |  +--:(host-case)\n",
    "    |  |  |  |  |  +--rw dst-host?            ios-types:ipv4-host\n",
    "    |  |  |  |  +--:(object-group-case)\n",
    "    |  |  |  |     +--rw dst-object-group?    string\n",
    "    |  |  |  +--rw (dst-port-choice)?\n",
    "    |  |  |  |  +--:(dst-eq-case)\n",
    "    |  |  |  |  |  +--rw dst-eq?              acl-port-type\n",
    "    |  |  |  |  +--:(dst-gt-case)\n",
    "    |  |  |  |  |  +--rw dst-gt?              acl-port-type\n",
    "    |  |  |  |  +--:(dst-lt-case)\n",
    "    |  |  |  |  |  +--rw dst-lt?              acl-port-type\n",
    "    |  |  |  |  +--:(dst-neq-case)\n",
    "    |  |  |  |  |  +--rw dst-neq?             acl-port-type\n",
    "    |  |  |  |  +--:(dst-range-case)\n",
    "    |  |  |  |     +--rw dst-range1?          acl-port-type\n",
    "    |  |  |  |     +--rw dst-range2?          acl-port-type\n",
    "```"
   ]
  },
  {
   "cell_type": "markdown",
   "metadata": {},
   "source": [
    "## Creating JSON Payload"
   ]
  },
  {
   "cell_type": "markdown",
   "metadata": {},
   "source": [
    "![json%20payload%20creation.png](json%20payload%20creation.png)"
   ]
  },
  {
   "cell_type": "code",
   "execution_count": null,
   "metadata": {},
   "outputs": [],
   "source": [
    "payload = json.loads(\n",
    "'''{\"Cisco-IOS-XE-acl:extended\": {\n",
    "        \"name\": 104,\n",
    "        \"access-list-seq-rule\": [\n",
    "            {\n",
    "                \"sequence\": 48,\n",
    "                \"ace-rule\": {\n",
    "                    \"action\": \"permit\",\n",
    "                    \"protocol\": \"ip\",\n",
    "                    \"host\": \"55.49.30.10\",\n",
    "                    \"dst-any\": [\n",
    "                        null\n",
    "                    ]\n",
    "                }\n",
    "            }\n",
    "        ]\n",
    "    }\n",
    "}''')\n",
    "\n",
    "\n",
    "o = session.patch(url('data', 'Cisco-IOS-XE-native:native/ip/access-list/extended=104'),json=payload)\n",
    "\n",
    "if o.status_code == 204:\n",
    "    print(\"configuration is successful\")\n",
    "else:\n",
    "    print(o.status_code)"
   ]
  },
  {
   "cell_type": "markdown",
   "metadata": {},
   "source": [
    "Modified ACL configuration:\n",
    "\n",
    "```\n",
    "Spoke1#show ip access-lists\n",
    "Extended IP access list 104\n",
    "    10 permit ip host 1.1.1.1 any\n",
    "    48 permit ip host 55.49.30.10 any\n",
    "Spoke1#\n",
    "\n",
    "```"
   ]
  },
  {
   "cell_type": "markdown",
   "metadata": {},
   "source": [
    "## Get Running configuration\n",
    "\n",
    "URL to get running configuration from the router \n",
    "    \n",
    "    https://{ADDRESS:PORT}/restconf/data/Cisco-IOS-XE-native:native\n",
    "            "
   ]
  },
  {
   "cell_type": "code",
   "execution_count": null,
   "metadata": {},
   "outputs": [],
   "source": [
    "o = session.get(url('data', 'Cisco-IOS-XE-native:native/'))\n",
    "\n",
    "if o.status_code == 200:\n",
    "    print(\"Configuration retrieved successfully\" , \"\\n\\n\" , o.text)\n",
    "else:\n",
    "    print(o.status_code)"
   ]
  },
  {
   "cell_type": "markdown",
   "metadata": {},
   "source": [
    "# Save Configuration"
   ]
  },
  {
   "cell_type": "markdown",
   "metadata": {},
   "source": [
    "Configuration changes done will be in running configuration. We have to run below code to save the configuration to startup. "
   ]
  },
  {
   "cell_type": "code",
   "execution_count": null,
   "metadata": {},
   "outputs": [],
   "source": [
    "o = session.post(url('operations', 'cisco-ia:save-config/'))\n",
    "                  \n",
    "print(o.status_code, '\\n\\n' , o.text)"
   ]
  },
  {
   "cell_type": "markdown",
   "metadata": {},
   "source": [
    "Sample Output:\n",
    "\n",
    "Before saving configuration:\n",
    "\n",
    "```\n",
    "Spoke1#show startup | sec access-list\n",
    "access-list 104 permit ip host 1.1.1.1 any\n",
    "```\n",
    "\n",
    "After saving configuration:\n",
    "\n",
    "```\n",
    "Spoke1#show run | sec access-list\n",
    "access-list 104 permit ip host 1.1.1.1 any\n",
    "access-list 104 permit ip host 55.45.30.10 any\n",
    "Spoke1#\n",
    "```"
   ]
  }
 ],
 "metadata": {
  "kernelspec": {
   "display_name": "Python 3",
   "language": "python",
   "name": "python3"
  },
  "language_info": {
   "codemirror_mode": {
    "name": "ipython",
    "version": 3
   },
   "file_extension": ".py",
   "mimetype": "text/x-python",
   "name": "python",
   "nbconvert_exporter": "python",
   "pygments_lexer": "ipython3",
   "version": "3.7.3"
  }
 },
 "nbformat": 4,
 "nbformat_minor": 2
}
